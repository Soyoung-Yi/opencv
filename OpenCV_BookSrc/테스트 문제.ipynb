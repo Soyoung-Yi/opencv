{
 "cells": [
  {
   "cell_type": "markdown",
   "id": "8b79eb0a",
   "metadata": {},
   "source": [
    "# 다음 셀을 실행시켜 숫자 이미지를 학습시키세요."
   ]
  },
  {
   "cell_type": "code",
   "execution_count": 2,
   "id": "425768dc",
   "metadata": {
    "ExecuteTime": {
     "end_time": "2021-12-12T04:57:51.214716Z",
     "start_time": "2021-12-12T04:57:44.901434Z"
    }
   },
   "outputs": [
    {
     "name": "stdout",
     "output_type": "stream",
     "text": [
      "(1000, 2000)\n"
     ]
    },
    {
     "data": {
      "text/plain": [
       "RandomForestClassifier()"
      ]
     },
     "execution_count": 2,
     "metadata": {},
     "output_type": "execute_result"
    }
   ],
   "source": [
    "import cv2\n",
    "import numpy as np\n",
    "\n",
    "img = cv2.imread('digits.png', cv2.IMREAD_GRAYSCALE)\n",
    "print(img.shape)\n",
    "cells = [np.hsplit(row,100) for row in np.vsplit(img,50)]\n",
    "x = np.array(cells)\n",
    "X = x[:,:].reshape(-1,400).astype(np.float32)\n",
    "y = np.repeat(np.arange(10),500)\n",
    "\n",
    "from sklearn.model_selection import train_test_split\n",
    "train_X, test_X, train_y, test_y = train_test_split(X, y, test_size=0.3)\n",
    "\n",
    "from sklearn.ensemble import RandomForestClassifier\n",
    "model = RandomForestClassifier()\n",
    "model.fit(train_X, train_y)"
   ]
  },
  {
   "cell_type": "markdown",
   "id": "773c6c3c",
   "metadata": {
    "ExecuteTime": {
     "end_time": "2021-12-12T04:58:21.402612Z",
     "start_time": "2021-12-12T04:58:21.397652Z"
    }
   },
   "source": [
    "# 다음 코드의 빈칸을 체워 숫자이미지 객체를 찾고 이미지가 어떤 숫자인지 인식하세요."
   ]
  },
  {
   "cell_type": "code",
   "execution_count": 1,
   "id": "00d3d774",
   "metadata": {
    "ExecuteTime": {
     "end_time": "2022-09-25T06:31:13.399323Z",
     "start_time": "2022-09-25T06:31:13.367625Z"
    }
   },
   "outputs": [
    {
     "ename": "SyntaxError",
     "evalue": "invalid syntax (2242086733.py, line 18)",
     "output_type": "error",
     "traceback": [
      "\u001b[1;36m  Input \u001b[1;32mIn [1]\u001b[1;36m\u001b[0m\n\u001b[1;33m    cv2.                                           #4. bin_img에 (xs,ys), (xe,ye) 사각형을 그리세요. 두께는 1로 색은 자유\u001b[0m\n\u001b[1;37m                                                   ^\u001b[0m\n\u001b[1;31mSyntaxError\u001b[0m\u001b[1;31m:\u001b[0m invalid syntax\n"
     ]
    }
   ],
   "source": [
    "import cv2\n",
    "cap = cv2.VideoCapture(0)                  # 1. 카메라를 연결하세요.\n",
    "if cap.isOpened():\n",
    "    while True:\n",
    "        ret, img = cap.read()\n",
    "        if ret:\n",
    "            g_img =  cv2.cvtColor(img, cv2.COLOR_BGR2GRAY)   # 2. 컬러 이미지를 회색조 이미지로 변환하세요.\n",
    "            thr, bin_img = cv2.threshold(g_img, 110, 255, cv2.THRESH_BINARY_INV)\n",
    "            contours, hierarchy = cv2.findContours(bin_img, cv2.RETR_EXTERNAL, \n",
    "                                                   cv2.CHAIN_APPROX_SIMPLE)\n",
    "            try:\n",
    "                for i in range(len(contours)):\n",
    "                    contour = contours[i]\n",
    "                    (x,y), radius = cv2.minEnclosingCircle(contour) #3. 컨투어를 포함하는 가장 작은 원을 찾아세요.\n",
    "                    if radius > 3:\n",
    "                        xs, xe = int(x-radius), int(x+radius)\n",
    "                        ys, ye = int(y-radius), int(y+radius)\n",
    "                        cv2.                                           #4. bin_img에 (xs,ys), (xe,ye) 사각형을 그리세요. 두께는 1로 색은 자유\n",
    "                        roi = bin_img[ys:ye, xs:xe]\n",
    "                        dst = cv2.resize(roi, dsize=(50, 50), interpolation=cv2.INTER_AREA)\n",
    "                        dst = cv2.resize(dst, dsize=(16, 16), interpolation=cv2.INTER_AREA)\n",
    "                        A = np.zeros((20,20))\n",
    "                        A[2:-2,2:-2] = dst[:,:]\n",
    "                        A = A.reshape(-1,400)\n",
    "                        num = model.predict(A)\n",
    "                        cv2.putText(bin_img, str(num), (xs, ys), cv2.FONT_HERSHEY_PLAIN, 2, (200,0,0))\n",
    "            except Exception as e:\n",
    "                print(e)\n",
    "\n",
    "            cv2.imshow(\"Image\", g_img)                          #5. bin_img를 화면에 출력하세요. 윈도우 타이틀은 \"Image\"여야 합니다.\n",
    "            if cv2.waitKey(1)&0xFF == 27: # ESC\n",
    "                break\n",
    "        else:\n",
    "            print(\"No Frame\")\n",
    "            break\n",
    "else :\n",
    "    print(\"Camera not opened\")\n",
    "    \n",
    "cap.release()\n",
    "cv2.destroyAllWindows()"
   ]
  },
  {
   "cell_type": "code",
   "execution_count": null,
   "id": "6e966cd6",
   "metadata": {},
   "outputs": [],
   "source": []
  }
 ],
 "metadata": {
  "kernelspec": {
   "display_name": "Python 3 (ipykernel)",
   "language": "python",
   "name": "python3"
  },
  "language_info": {
   "codemirror_mode": {
    "name": "ipython",
    "version": 3
   },
   "file_extension": ".py",
   "mimetype": "text/x-python",
   "name": "python",
   "nbconvert_exporter": "python",
   "pygments_lexer": "ipython3",
   "version": "3.9.12"
  },
  "toc": {
   "base_numbering": 1,
   "nav_menu": {},
   "number_sections": true,
   "sideBar": true,
   "skip_h1_title": false,
   "title_cell": "Table of Contents",
   "title_sidebar": "Contents",
   "toc_cell": false,
   "toc_position": {},
   "toc_section_display": true,
   "toc_window_display": false
  },
  "varInspector": {
   "cols": {
    "lenName": 16,
    "lenType": 16,
    "lenVar": 40
   },
   "kernels_config": {
    "python": {
     "delete_cmd_postfix": "",
     "delete_cmd_prefix": "del ",
     "library": "var_list.py",
     "varRefreshCmd": "print(var_dic_list())"
    },
    "r": {
     "delete_cmd_postfix": ") ",
     "delete_cmd_prefix": "rm(",
     "library": "var_list.r",
     "varRefreshCmd": "cat(var_dic_list()) "
    }
   },
   "types_to_exclude": [
    "module",
    "function",
    "builtin_function_or_method",
    "instance",
    "_Feature"
   ],
   "window_display": false
  }
 },
 "nbformat": 4,
 "nbformat_minor": 5
}
